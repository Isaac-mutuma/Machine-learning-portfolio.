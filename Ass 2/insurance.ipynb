{
 "cells": [
  {
   "cell_type": "code",
   "execution_count": 40,
   "id": "78641738",
   "metadata": {},
   "outputs": [],
   "source": [
    "import pandas as pd\n",
    "import numpy as np\n",
    "from sklearn.model_selection import train_test_split, GridSearchCV\n",
    "from sklearn.ensemble import RandomForestClassifier\n",
    "from sklearn.metrics import accuracy_score, precision_score, recall_score, f1_score\n",
    "from sklearn.preprocessing import LabelEncoder, StandardScaler\n",
    "from sklearn.impute import SimpleImputer\n",
    "from sklearn.ensemble import RandomForestRegressor\n",
    "\n",
    "\n"
   ]
  },
  {
   "cell_type": "code",
   "execution_count": 26,
   "id": "b0f06e89",
   "metadata": {},
   "outputs": [],
   "source": [
    "# Load the dataset into a pandas dataframe\n",
    "insurance = pd.read_csv(\"C://Users//icr58//Desktop//Ass 2//insurance.csv\")\n"
   ]
  },
  {
   "cell_type": "code",
   "execution_count": 18,
   "id": "8d7dc950",
   "metadata": {},
   "outputs": [
    {
     "name": "stdout",
     "output_type": "stream",
     "text": [
      "   age     sex     bmi  children smoker     region      charges\n",
      "0   19  female  27.900         0    yes  southwest  16884.92400\n",
      "1   18    male  33.770         1     no  southeast   1725.55230\n",
      "2   28    male  33.000         3     no  southeast   4449.46200\n",
      "3   33    male  22.705         0     no  northwest  21984.47061\n",
      "4   32    male  28.880         0     no  northwest   3866.85520\n"
     ]
    }
   ],
   "source": [
    "# Check the first 5 rows of the data\n",
    "print(insurance.head())\n"
   ]
  },
  {
   "cell_type": "code",
   "execution_count": 19,
   "id": "a84cfb6f",
   "metadata": {},
   "outputs": [
    {
     "name": "stdout",
     "output_type": "stream",
     "text": [
      "      age     sex    bmi  children smoker     region     charges\n",
      "1333   50    male  30.97         3     no  northwest  10600.5483\n",
      "1334   18  female  31.92         0     no  northeast   2205.9808\n",
      "1335   18  female  36.85         0     no  southeast   1629.8335\n",
      "1336   21  female  25.80         0     no  southwest   2007.9450\n",
      "1337   61  female  29.07         0    yes  northwest  29141.3603\n"
     ]
    }
   ],
   "source": [
    "#check last 5 rows\n",
    "print(insurance.tail())"
   ]
  },
  {
   "cell_type": "code",
   "execution_count": 14,
   "id": "7ed6ccb8",
   "metadata": {
    "scrolled": true
   },
   "outputs": [],
   "source": [
    "# encode the categorical features\n",
    "le = LabelEncoder()\n",
    "insurance['sex'] = le.fit_transform(insurance['sex'])\n",
    "insurance['smoker'] = le.fit_transform(insurance['smoker'])\n",
    "insurance['region'] = le.fit_transform(insurance['region'])"
   ]
  },
  {
   "cell_type": "code",
   "execution_count": 27,
   "id": "b1bafe10",
   "metadata": {},
   "outputs": [],
   "source": [
    "# Label encode categorical columns\n",
    "cat_cols = ['sex', 'smoker', 'region']\n",
    "for col in cat_cols:\n",
    "    le = LabelEncoder()\n",
    "    insurance[col] = le.fit_transform(insurance[col])"
   ]
  },
  {
   "cell_type": "code",
   "execution_count": 28,
   "id": "9946f9a3",
   "metadata": {},
   "outputs": [],
   "source": [
    "# Fill missing values with mean\n",
    "num_cols = ['age', 'bmi', 'children', 'charges']\n",
    "imputer = SimpleImputer(strategy='mean')\n",
    "insurance[num_cols] = imputer.fit_transform(insurance[num_cols])\n"
   ]
  },
  {
   "cell_type": "code",
   "execution_count": 29,
   "id": "e8637b1b",
   "metadata": {},
   "outputs": [],
   "source": [
    "# Scale numerical columns\n",
    "scaler = StandardScaler()\n",
    "insurance[num_cols] = scaler.fit_transform(insurance[num_cols])"
   ]
  },
  {
   "cell_type": "code",
   "execution_count": 30,
   "id": "84c6ef8b",
   "metadata": {},
   "outputs": [],
   "source": [
    "# Split the data into input and output\n",
    "X = insurance.drop(['charges'], axis=1)\n",
    "y = insurance['charges']"
   ]
  },
  {
   "cell_type": "code",
   "execution_count": 51,
   "id": "dd7e7914",
   "metadata": {},
   "outputs": [],
   "source": [
    "#splitting the dataset\n",
    "X_train, X_test, y_train, y_test = train_test_split(X, y, test_size=0.2, random_state=42)"
   ]
  },
  {
   "cell_type": "code",
   "execution_count": 52,
   "id": "83b26958",
   "metadata": {},
   "outputs": [
    {
     "name": "stdout",
     "output_type": "stream",
     "text": [
      "(1070, 6) (268, 6) (1070,) (268,)\n"
     ]
    }
   ],
   "source": [
    "print(X_train.shape, X_test.shape, y_train.shape, y_test.shape)"
   ]
  },
  {
   "cell_type": "code",
   "execution_count": 55,
   "id": "564f9d15",
   "metadata": {},
   "outputs": [
    {
     "ename": "NameError",
     "evalue": "name 'y_pred' is not defined",
     "output_type": "error",
     "traceback": [
      "\u001b[1;31m---------------------------------------------------------------------------\u001b[0m",
      "\u001b[1;31mNameError\u001b[0m                                 Traceback (most recent call last)",
      "\u001b[1;32m~\\AppData\\Local\\Temp\\ipykernel_6740\\1097272112.py\u001b[0m in \u001b[0;36m<module>\u001b[1;34m\u001b[0m\n\u001b[1;32m----> 1\u001b[1;33m \u001b[0macc\u001b[0m \u001b[1;33m=\u001b[0m \u001b[0maccuracy_score\u001b[0m\u001b[1;33m(\u001b[0m\u001b[0my_test\u001b[0m\u001b[1;33m,\u001b[0m \u001b[0my_pred\u001b[0m\u001b[1;33m)\u001b[0m\u001b[1;33m\u001b[0m\u001b[1;33m\u001b[0m\u001b[0m\n\u001b[0m\u001b[0;32m      2\u001b[0m \u001b[0mcm\u001b[0m \u001b[1;33m=\u001b[0m \u001b[0mconfusion_matrix\u001b[0m\u001b[1;33m(\u001b[0m\u001b[0my_test\u001b[0m\u001b[1;33m,\u001b[0m \u001b[0my_pred\u001b[0m\u001b[1;33m)\u001b[0m\u001b[1;33m\u001b[0m\u001b[1;33m\u001b[0m\u001b[0m\n\u001b[0;32m      3\u001b[0m \u001b[0mprint\u001b[0m\u001b[1;33m(\u001b[0m\u001b[1;34m\"Accuracy:\"\u001b[0m\u001b[1;33m,\u001b[0m \u001b[0macc\u001b[0m\u001b[1;33m)\u001b[0m\u001b[1;33m\u001b[0m\u001b[1;33m\u001b[0m\u001b[0m\n\u001b[0;32m      4\u001b[0m \u001b[0mprint\u001b[0m\u001b[1;33m(\u001b[0m\u001b[1;34m\"Confusion Matrix:\\n\"\u001b[0m\u001b[1;33m,\u001b[0m \u001b[0mcm\u001b[0m\u001b[1;33m)\u001b[0m\u001b[1;33m\u001b[0m\u001b[1;33m\u001b[0m\u001b[0m\n",
      "\u001b[1;31mNameError\u001b[0m: name 'y_pred' is not defined"
     ]
    }
   ],
   "source": [
    "acc = accuracy_score(y_test, y_pred)\n",
    "cm = confusion_matrix(y_test, y_pred)\n",
    "print(\"Accuracy:\", acc)\n",
    "print(\"Confusion Matrix:\\n\", cm)"
   ]
  },
  {
   "cell_type": "code",
   "execution_count": null,
   "id": "f1a8ab38",
   "metadata": {},
   "outputs": [],
   "source": []
  },
  {
   "cell_type": "code",
   "execution_count": null,
   "id": "cd8b3ddf",
   "metadata": {},
   "outputs": [],
   "source": []
  }
 ],
 "metadata": {
  "kernelspec": {
   "display_name": "Python 3 (ipykernel)",
   "language": "python",
   "name": "python3"
  },
  "language_info": {
   "codemirror_mode": {
    "name": "ipython",
    "version": 3
   },
   "file_extension": ".py",
   "mimetype": "text/x-python",
   "name": "python",
   "nbconvert_exporter": "python",
   "pygments_lexer": "ipython3",
   "version": "3.9.13"
  }
 },
 "nbformat": 4,
 "nbformat_minor": 5
}
